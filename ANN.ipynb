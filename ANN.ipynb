{
 "cells": [
  {
   "cell_type": "code",
   "execution_count": 1,
   "id": "80f0b41a-8b82-4c61-bb51-0e7a3b63840a",
   "metadata": {},
   "outputs": [],
   "source": [
    "import pandas as pd\n",
    "import numpy as np\n",
    "import warnings\n",
    "warnings.filterwarnings('ignore')"
   ]
  },
  {
   "cell_type": "code",
   "execution_count": 2,
   "id": "6e549d55-a65a-4402-ad56-4f995e2f269e",
   "metadata": {},
   "outputs": [],
   "source": [
    "\n",
    "\n",
    "df = pd.read_csv('twitter_training.csv', header=None)  # No header  in file\n",
    "df.columns = ['id', 'entity', 'sentiments', 'reviews']\n",
    "df = df.reset_index(drop=True)\n"
   ]
  },
  {
   "cell_type": "code",
   "execution_count": 3,
   "id": "57f129ab-58f2-4d52-a79f-ec0f26128fa3",
   "metadata": {},
   "outputs": [
    {
     "name": "stdout",
     "output_type": "stream",
     "text": [
      "<class 'pandas.core.frame.DataFrame'>\n",
      "RangeIndex: 74682 entries, 0 to 74681\n",
      "Data columns (total 4 columns):\n",
      " #   Column      Non-Null Count  Dtype \n",
      "---  ------      --------------  ----- \n",
      " 0   id          74682 non-null  int64 \n",
      " 1   entity      74682 non-null  object\n",
      " 2   sentiments  74682 non-null  object\n",
      " 3   reviews     73996 non-null  object\n",
      "dtypes: int64(1), object(3)\n",
      "memory usage: 2.3+ MB\n"
     ]
    }
   ],
   "source": [
    "df.info()"
   ]
  },
  {
   "cell_type": "code",
   "execution_count": 4,
   "id": "93728316-5486-453c-bdf1-3c5a23047d30",
   "metadata": {},
   "outputs": [
    {
     "data": {
      "text/plain": [
       "id              0\n",
       "entity          0\n",
       "sentiments      0\n",
       "reviews       686\n",
       "dtype: int64"
      ]
     },
     "execution_count": 4,
     "metadata": {},
     "output_type": "execute_result"
    }
   ],
   "source": [
    "df.isnull().sum()"
   ]
  },
  {
   "cell_type": "code",
   "execution_count": 5,
   "id": "182cfd3d-ee21-4e74-a0f8-c966a0e666f0",
   "metadata": {},
   "outputs": [],
   "source": [
    "df = df.dropna(subset=['reviews'])\n"
   ]
  },
  {
   "cell_type": "code",
   "execution_count": 6,
   "id": "80bd5566-06c1-4bb5-a66e-6bdec5e1bf0e",
   "metadata": {},
   "outputs": [],
   "source": [
    "import nltk \n",
    "import re\n",
    "from nltk.corpus import stopwords\n",
    "from nltk.stem  import PorterStemmer\n",
    "ps = PorterStemmer()"
   ]
  },
  {
   "cell_type": "markdown",
   "id": "2a6a7f9a-9458-4b9b-9b87-67f8884f8f78",
   "metadata": {},
   "source": [
    "# Text Cleaning"
   ]
  },
  {
   "cell_type": "code",
   "execution_count": 8,
   "id": "d2409af2-5970-4a90-984c-8bfa81928a8f",
   "metadata": {},
   "outputs": [],
   "source": [
    "corpus = []\n",
    "filtered_labels = []\n",
    "\n",
    "for review, sentiment in zip(df['reviews'], df['sentiments']):\n",
    "    rp = re.sub(r\"http\\S+|www\\S+|https\\S+\", '', review, flags=re.MULTILINE)  # Remove URLs\n",
    "    rp = re.sub('[^a-zA-Z]', \" \", rp)  # Keep only letters\n",
    "    rp = rp.lower()\n",
    "    rp = rp.split()\n",
    "    rp = [ps.stem(word) for word in rp if word not in set(stopwords.words('english'))]\n",
    "    rp = \" \".join(rp)\n",
    "    \n",
    "    if len(rp.strip()) > 2:  # Only keep non-empty cleaned reviews\n",
    "        corpus.append(rp)\n",
    "        filtered_labels.append(sentiment)  \n"
   ]
  },
  {
   "cell_type": "markdown",
   "id": "54395dec-be17-4e07-b0d9-b5d70b49db60",
   "metadata": {},
   "source": [
    "# Vectorization"
   ]
  },
  {
   "cell_type": "code",
   "execution_count": 10,
   "id": "877ef86f-e4ef-473b-a4f1-8a9a2101518d",
   "metadata": {},
   "outputs": [],
   "source": [
    "from sklearn.feature_extraction.text import TfidfVectorizer\n",
    "\n",
    "vectorizer = TfidfVectorizer(max_features=5000)\n",
    "X = vectorizer.fit_transform(corpus).toarray()\n",
    "\n"
   ]
  },
  {
   "cell_type": "code",
   "execution_count": 11,
   "id": "453af971-2469-45ba-ae90-c7333ca25d08",
   "metadata": {},
   "outputs": [
    {
     "data": {
      "text/plain": [
       "array([3, 3, 3, ..., 3, 3, 3], dtype=int64)"
      ]
     },
     "execution_count": 11,
     "metadata": {},
     "output_type": "execute_result"
    }
   ],
   "source": [
    "from sklearn.preprocessing import LabelEncoder\n",
    "\n",
    "le = LabelEncoder()\n",
    "y = le.fit_transform(filtered_labels)\n",
    "y"
   ]
  },
  {
   "cell_type": "code",
   "execution_count": null,
   "id": "383be7b4-bd5c-438e-b05f-74d6b4fdd41a",
   "metadata": {},
   "outputs": [],
   "source": []
  },
  {
   "cell_type": "markdown",
   "id": "4d54d90d-0bfd-4a81-b89d-dafc34098beb",
   "metadata": {},
   "source": [
    "# Modeling"
   ]
  },
  {
   "cell_type": "code",
   "execution_count": 13,
   "id": "7d02c0d3-725b-432b-8218-cf9087d13acf",
   "metadata": {},
   "outputs": [],
   "source": [
    "from keras.models import Sequential\n",
    "from keras.layers import Dense\n",
    "from keras.layers import Dropout\n",
    "from keras.callbacks import EarlyStopping\n",
    "\n",
    "def build_ann():\n",
    "    ann = Sequential()\n",
    "    ann.add(Dense(input_dim=X.shape[1], units = 250 , kernel_initializer='uniform', activation='relu'))\n",
    "    ann.add(Dropout(0.2))\n",
    "    ann.add(Dense(units = 220 , kernel_initializer='uniform', activation='relu'))\n",
    "    ann.add(Dropout(0.2))\n",
    "   \n",
    "    ann.add(Dense(units = 4 , kernel_initializer = 'uniform', activation='softmax'))\n",
    " \n",
    "    ann.compile(optimizer='adam',loss ='sparse_categorical_crossentropy', metrics = ['accuracy'])\n",
    "    return ann"
   ]
  },
  {
   "cell_type": "code",
   "execution_count": 14,
   "id": "c2f08dfd-ab73-460e-abc1-8aa0bc97e444",
   "metadata": {
    "scrolled": true
   },
   "outputs": [
    {
     "name": "stdout",
     "output_type": "stream",
     "text": [
      "Epoch 1/20\n",
      "\u001b[1m2033/2033\u001b[0m \u001b[32m━━━━━━━━━━━━━━━━━━━━\u001b[0m\u001b[37m\u001b[0m \u001b[1m67s\u001b[0m 29ms/step - accuracy: 0.5870 - loss: 0.9738 - val_accuracy: 0.4541 - val_loss: 1.5656\n",
      "Epoch 2/20\n",
      "\u001b[1m2033/2033\u001b[0m \u001b[32m━━━━━━━━━━━━━━━━━━━━\u001b[0m\u001b[37m\u001b[0m \u001b[1m80s\u001b[0m 29ms/step - accuracy: 0.8972 - loss: 0.2990 - val_accuracy: 0.4480 - val_loss: 2.0072\n",
      "Epoch 3/20\n",
      "\u001b[1m2033/2033\u001b[0m \u001b[32m━━━━━━━━━━━━━━━━━━━━\u001b[0m\u001b[37m\u001b[0m \u001b[1m82s\u001b[0m 29ms/step - accuracy: 0.9564 - loss: 0.1298 - val_accuracy: 0.4472 - val_loss: 2.4685\n",
      "Epoch 4/20\n",
      "\u001b[1m2033/2033\u001b[0m \u001b[32m━━━━━━━━━━━━━━━━━━━━\u001b[0m\u001b[37m\u001b[0m \u001b[1m58s\u001b[0m 29ms/step - accuracy: 0.9679 - loss: 0.0893 - val_accuracy: 0.4707 - val_loss: 2.7766\n",
      "Epoch 5/20\n",
      "\u001b[1m2033/2033\u001b[0m \u001b[32m━━━━━━━━━━━━━━━━━━━━\u001b[0m\u001b[37m\u001b[0m \u001b[1m59s\u001b[0m 29ms/step - accuracy: 0.9725 - loss: 0.0731 - val_accuracy: 0.4384 - val_loss: 3.2500\n",
      "Epoch 6/20\n",
      "\u001b[1m2033/2033\u001b[0m \u001b[32m━━━━━━━━━━━━━━━━━━━━\u001b[0m\u001b[37m\u001b[0m \u001b[1m60s\u001b[0m 29ms/step - accuracy: 0.9738 - loss: 0.0660 - val_accuracy: 0.4637 - val_loss: 3.3389\n",
      "Epoch 7/20\n",
      "\u001b[1m2033/2033\u001b[0m \u001b[32m━━━━━━━━━━━━━━━━━━━━\u001b[0m\u001b[37m\u001b[0m \u001b[1m58s\u001b[0m 28ms/step - accuracy: 0.9766 - loss: 0.0579 - val_accuracy: 0.4486 - val_loss: 3.5525\n",
      "Epoch 8/20\n",
      "\u001b[1m2033/2033\u001b[0m \u001b[32m━━━━━━━━━━━━━━━━━━━━\u001b[0m\u001b[37m\u001b[0m \u001b[1m83s\u001b[0m 29ms/step - accuracy: 0.9781 - loss: 0.0540 - val_accuracy: 0.4496 - val_loss: 3.9713\n",
      "Epoch 9/20\n",
      "\u001b[1m2033/2033\u001b[0m \u001b[32m━━━━━━━━━━━━━━━━━━━━\u001b[0m\u001b[37m\u001b[0m \u001b[1m81s\u001b[0m 29ms/step - accuracy: 0.9777 - loss: 0.0530 - val_accuracy: 0.4626 - val_loss: 4.0805\n",
      "Epoch 10/20\n",
      "\u001b[1m2033/2033\u001b[0m \u001b[32m━━━━━━━━━━━━━━━━━━━━\u001b[0m\u001b[37m\u001b[0m \u001b[1m81s\u001b[0m 28ms/step - accuracy: 0.9789 - loss: 0.0503 - val_accuracy: 0.4534 - val_loss: 4.3499\n",
      "Epoch 11/20\n",
      "\u001b[1m2033/2033\u001b[0m \u001b[32m━━━━━━━━━━━━━━━━━━━━\u001b[0m\u001b[37m\u001b[0m \u001b[1m58s\u001b[0m 29ms/step - accuracy: 0.9786 - loss: 0.0490 - val_accuracy: 0.4739 - val_loss: 4.2238\n",
      "Epoch 12/20\n",
      "\u001b[1m2033/2033\u001b[0m \u001b[32m━━━━━━━━━━━━━━━━━━━━\u001b[0m\u001b[37m\u001b[0m \u001b[1m59s\u001b[0m 29ms/step - accuracy: 0.9794 - loss: 0.0475 - val_accuracy: 0.4627 - val_loss: 4.2242\n",
      "Epoch 13/20\n",
      "\u001b[1m2033/2033\u001b[0m \u001b[32m━━━━━━━━━━━━━━━━━━━━\u001b[0m\u001b[37m\u001b[0m \u001b[1m82s\u001b[0m 29ms/step - accuracy: 0.9803 - loss: 0.0463 - val_accuracy: 0.4590 - val_loss: 4.2353\n",
      "Epoch 14/20\n",
      "\u001b[1m2033/2033\u001b[0m \u001b[32m━━━━━━━━━━━━━━━━━━━━\u001b[0m\u001b[37m\u001b[0m \u001b[1m79s\u001b[0m 28ms/step - accuracy: 0.9797 - loss: 0.0466 - val_accuracy: 0.4667 - val_loss: 4.5922\n",
      "Epoch 15/20\n",
      "\u001b[1m2033/2033\u001b[0m \u001b[32m━━━━━━━━━━━━━━━━━━━━\u001b[0m\u001b[37m\u001b[0m \u001b[1m85s\u001b[0m 29ms/step - accuracy: 0.9798 - loss: 0.0452 - val_accuracy: 0.4666 - val_loss: 4.6016\n",
      "Epoch 16/20\n",
      "\u001b[1m2033/2033\u001b[0m \u001b[32m━━━━━━━━━━━━━━━━━━━━\u001b[0m\u001b[37m\u001b[0m \u001b[1m82s\u001b[0m 29ms/step - accuracy: 0.9804 - loss: 0.0458 - val_accuracy: 0.4696 - val_loss: 4.6866\n",
      "Epoch 17/20\n",
      "\u001b[1m2033/2033\u001b[0m \u001b[32m━━━━━━━━━━━━━━━━━━━━\u001b[0m\u001b[37m\u001b[0m \u001b[1m59s\u001b[0m 29ms/step - accuracy: 0.9794 - loss: 0.0472 - val_accuracy: 0.4700 - val_loss: 4.7780\n",
      "Epoch 18/20\n",
      "\u001b[1m2033/2033\u001b[0m \u001b[32m━━━━━━━━━━━━━━━━━━━━\u001b[0m\u001b[37m\u001b[0m \u001b[1m59s\u001b[0m 29ms/step - accuracy: 0.9799 - loss: 0.0451 - val_accuracy: 0.4619 - val_loss: 5.1005\n",
      "Epoch 19/20\n",
      "\u001b[1m2033/2033\u001b[0m \u001b[32m━━━━━━━━━━━━━━━━━━━━\u001b[0m\u001b[37m\u001b[0m \u001b[1m82s\u001b[0m 29ms/step - accuracy: 0.9804 - loss: 0.0449 - val_accuracy: 0.4718 - val_loss: 4.7411\n",
      "Epoch 20/20\n",
      "\u001b[1m2033/2033\u001b[0m \u001b[32m━━━━━━━━━━━━━━━━━━━━\u001b[0m\u001b[37m\u001b[0m \u001b[1m82s\u001b[0m 29ms/step - accuracy: 0.9810 - loss: 0.0437 - val_accuracy: 0.4348 - val_loss: 5.3872\n"
     ]
    },
    {
     "data": {
      "text/plain": [
       "<keras.src.callbacks.history.History at 0x1e655cf3da0>"
      ]
     },
     "execution_count": 14,
     "metadata": {},
     "output_type": "execute_result"
    }
   ],
   "source": [
    "model = build_ann()\n",
    "\n",
    "stoping = EarlyStopping( monitor='loss',\n",
    "    min_delta=0,\n",
    "    patience=5,\n",
    "    verbose=0,\n",
    "    mode='auto',\n",
    "    baseline=None,\n",
    "    restore_best_weights=True,\n",
    "    start_from_epoch=0,)\n",
    "\n",
    "model.fit(X,y, epochs= 20, batch_size=32,validation_split=0.1,callbacks=[stoping])\n"
   ]
  },
  {
   "cell_type": "code",
   "execution_count": null,
   "id": "0957076d-7660-4260-baf3-12268188d797",
   "metadata": {},
   "outputs": [],
   "source": []
  },
  {
   "cell_type": "code",
   "execution_count": 15,
   "id": "bfa7fd22-dca0-49fd-aea7-c79b4e546c90",
   "metadata": {},
   "outputs": [
    {
     "name": "stdout",
     "output_type": "stream",
     "text": [
      "\u001b[1m2259/2259\u001b[0m \u001b[32m━━━━━━━━━━━━━━━━━━━━\u001b[0m\u001b[37m\u001b[0m \u001b[1m18s\u001b[0m 8ms/step\n",
      "Accuracy: 0.9272430397963137\n"
     ]
    }
   ],
   "source": [
    "from sklearn.metrics import accuracy_score\n",
    "\n",
    "y_pred = model.predict(X)\n",
    "y_pred_classes = np.argmax(y_pred, axis=1) \n",
    "print(\"Accuracy:\", accuracy_score(y, y_pred_classes))  # Use class labels\n",
    "\n"
   ]
  },
  {
   "cell_type": "markdown",
   "id": "e58ff816-8526-4ad8-92e1-5ff7deef9415",
   "metadata": {},
   "source": [
    "# PREDICT ON TEST DATA"
   ]
  },
  {
   "cell_type": "code",
   "execution_count": 17,
   "id": "25e26467-201d-4913-8a30-f0f6d4780747",
   "metadata": {},
   "outputs": [
    {
     "data": {
      "text/html": [
       "<div>\n",
       "<style scoped>\n",
       "    .dataframe tbody tr th:only-of-type {\n",
       "        vertical-align: middle;\n",
       "    }\n",
       "\n",
       "    .dataframe tbody tr th {\n",
       "        vertical-align: top;\n",
       "    }\n",
       "\n",
       "    .dataframe thead th {\n",
       "        text-align: right;\n",
       "    }\n",
       "</style>\n",
       "<table border=\"1\" class=\"dataframe\">\n",
       "  <thead>\n",
       "    <tr style=\"text-align: right;\">\n",
       "      <th></th>\n",
       "      <th>id</th>\n",
       "      <th>entity</th>\n",
       "      <th>sentiment</th>\n",
       "      <th>reviews</th>\n",
       "    </tr>\n",
       "  </thead>\n",
       "  <tbody>\n",
       "    <tr>\n",
       "      <th>0</th>\n",
       "      <td>352</td>\n",
       "      <td>Amazon</td>\n",
       "      <td>Neutral</td>\n",
       "      <td>BBC News - Amazon boss Jeff Bezos rejects clai...</td>\n",
       "    </tr>\n",
       "    <tr>\n",
       "      <th>1</th>\n",
       "      <td>8312</td>\n",
       "      <td>Microsoft</td>\n",
       "      <td>Negative</td>\n",
       "      <td>@Microsoft Why do I pay for WORD when it funct...</td>\n",
       "    </tr>\n",
       "    <tr>\n",
       "      <th>2</th>\n",
       "      <td>4371</td>\n",
       "      <td>CS-GO</td>\n",
       "      <td>Negative</td>\n",
       "      <td>CSGO matchmaking is so full of closet hacking,...</td>\n",
       "    </tr>\n",
       "    <tr>\n",
       "      <th>3</th>\n",
       "      <td>4433</td>\n",
       "      <td>Google</td>\n",
       "      <td>Neutral</td>\n",
       "      <td>Now the President is slapping Americans in the...</td>\n",
       "    </tr>\n",
       "    <tr>\n",
       "      <th>4</th>\n",
       "      <td>6273</td>\n",
       "      <td>FIFA</td>\n",
       "      <td>Negative</td>\n",
       "      <td>Hi @EAHelp I’ve had Madeleine McCann in my cel...</td>\n",
       "    </tr>\n",
       "    <tr>\n",
       "      <th>...</th>\n",
       "      <td>...</td>\n",
       "      <td>...</td>\n",
       "      <td>...</td>\n",
       "      <td>...</td>\n",
       "    </tr>\n",
       "    <tr>\n",
       "      <th>994</th>\n",
       "      <td>4891</td>\n",
       "      <td>GrandTheftAuto(GTA)</td>\n",
       "      <td>Irrelevant</td>\n",
       "      <td>⭐️ Toronto is the arts and culture capital of ...</td>\n",
       "    </tr>\n",
       "    <tr>\n",
       "      <th>995</th>\n",
       "      <td>4359</td>\n",
       "      <td>CS-GO</td>\n",
       "      <td>Irrelevant</td>\n",
       "      <td>tHIS IS ACTUALLY A GOOD MOVE TOT BRING MORE VI...</td>\n",
       "    </tr>\n",
       "    <tr>\n",
       "      <th>996</th>\n",
       "      <td>2652</td>\n",
       "      <td>Borderlands</td>\n",
       "      <td>Positive</td>\n",
       "      <td>Today sucked so it’s time to drink wine n play...</td>\n",
       "    </tr>\n",
       "    <tr>\n",
       "      <th>997</th>\n",
       "      <td>8069</td>\n",
       "      <td>Microsoft</td>\n",
       "      <td>Positive</td>\n",
       "      <td>Bought a fraction of Microsoft today. Small wins.</td>\n",
       "    </tr>\n",
       "    <tr>\n",
       "      <th>998</th>\n",
       "      <td>6960</td>\n",
       "      <td>johnson&amp;johnson</td>\n",
       "      <td>Neutral</td>\n",
       "      <td>Johnson &amp; Johnson to stop selling talc baby po...</td>\n",
       "    </tr>\n",
       "  </tbody>\n",
       "</table>\n",
       "<p>999 rows × 4 columns</p>\n",
       "</div>"
      ],
      "text/plain": [
       "       id               entity   sentiment  \\\n",
       "0     352               Amazon     Neutral   \n",
       "1    8312            Microsoft    Negative   \n",
       "2    4371                CS-GO    Negative   \n",
       "3    4433               Google     Neutral   \n",
       "4    6273                 FIFA    Negative   \n",
       "..    ...                  ...         ...   \n",
       "994  4891  GrandTheftAuto(GTA)  Irrelevant   \n",
       "995  4359                CS-GO  Irrelevant   \n",
       "996  2652          Borderlands    Positive   \n",
       "997  8069            Microsoft    Positive   \n",
       "998  6960      johnson&johnson     Neutral   \n",
       "\n",
       "                                               reviews  \n",
       "0    BBC News - Amazon boss Jeff Bezos rejects clai...  \n",
       "1    @Microsoft Why do I pay for WORD when it funct...  \n",
       "2    CSGO matchmaking is so full of closet hacking,...  \n",
       "3    Now the President is slapping Americans in the...  \n",
       "4    Hi @EAHelp I’ve had Madeleine McCann in my cel...  \n",
       "..                                                 ...  \n",
       "994  ⭐️ Toronto is the arts and culture capital of ...  \n",
       "995  tHIS IS ACTUALLY A GOOD MOVE TOT BRING MORE VI...  \n",
       "996  Today sucked so it’s time to drink wine n play...  \n",
       "997  Bought a fraction of Microsoft today. Small wins.  \n",
       "998  Johnson & Johnson to stop selling talc baby po...  \n",
       "\n",
       "[999 rows x 4 columns]"
      ]
     },
     "execution_count": 17,
     "metadata": {},
     "output_type": "execute_result"
    }
   ],
   "source": [
    "df_test = pd.read_csv('twitter_validation.csv')\n",
    "df_test.columns = ['id', 'entity', 'sentiment', 'reviews']\n",
    "df_test = df_test.reset_index(drop=True)\n",
    "df_test"
   ]
  },
  {
   "cell_type": "code",
   "execution_count": 19,
   "id": "7baf7688-810c-498f-9783-6a85d3e455d5",
   "metadata": {},
   "outputs": [],
   "source": [
    "# Assuming you already have a preprocessing function like this:\n",
    "def preprocess_text(text):\n",
    "    text = text.lower()\n",
    "    text = re.sub(r'[^a-zA-Z\\s]', '', text)\n",
    "    text = re.sub(r'\\s+', ' ', text).strip()\n",
    "    return text\n",
    "\n",
    "df_test['cleaned_reviews'] = df_test['reviews'].apply(preprocess_text)\n"
   ]
  },
  {
   "cell_type": "markdown",
   "id": "f6fd76f9-9ea5-4387-9b5e-3b291a74047b",
   "metadata": {},
   "source": [
    "**re.sub() ka matlab hai replace using regex.**\n",
    "\n",
    "**r'[^a-zA-Z\\s]' ka matlab:**\n",
    "\n",
    "**^ inside [] means \"not\".**\n",
    "\n",
    "**a-zA-Z means only alphabets (small and capital).**\n",
    "\n",
    "**\\s means whitespace (space, tab, newline).**\n",
    "\n",
    "**So this regex is saying:**\n",
    "\n",
    "**Replace anything that is not an alphabet or space with an empty string (' ').**"
   ]
  },
  {
   "cell_type": "code",
   "execution_count": 21,
   "id": "dc2d4003-16c5-46d7-9dc2-9af11b2c4b69",
   "metadata": {},
   "outputs": [
    {
     "data": {
      "text/html": [
       "<div>\n",
       "<style scoped>\n",
       "    .dataframe tbody tr th:only-of-type {\n",
       "        vertical-align: middle;\n",
       "    }\n",
       "\n",
       "    .dataframe tbody tr th {\n",
       "        vertical-align: top;\n",
       "    }\n",
       "\n",
       "    .dataframe thead th {\n",
       "        text-align: right;\n",
       "    }\n",
       "</style>\n",
       "<table border=\"1\" class=\"dataframe\">\n",
       "  <thead>\n",
       "    <tr style=\"text-align: right;\">\n",
       "      <th></th>\n",
       "      <th>id</th>\n",
       "      <th>entity</th>\n",
       "      <th>sentiment</th>\n",
       "      <th>reviews</th>\n",
       "      <th>cleaned_reviews</th>\n",
       "    </tr>\n",
       "  </thead>\n",
       "  <tbody>\n",
       "    <tr>\n",
       "      <th>0</th>\n",
       "      <td>352</td>\n",
       "      <td>Amazon</td>\n",
       "      <td>Neutral</td>\n",
       "      <td>BBC News - Amazon boss Jeff Bezos rejects clai...</td>\n",
       "      <td>bbc news amazon boss jeff bezos rejects claims...</td>\n",
       "    </tr>\n",
       "    <tr>\n",
       "      <th>1</th>\n",
       "      <td>8312</td>\n",
       "      <td>Microsoft</td>\n",
       "      <td>Negative</td>\n",
       "      <td>@Microsoft Why do I pay for WORD when it funct...</td>\n",
       "      <td>microsoft why do i pay for word when it functi...</td>\n",
       "    </tr>\n",
       "    <tr>\n",
       "      <th>2</th>\n",
       "      <td>4371</td>\n",
       "      <td>CS-GO</td>\n",
       "      <td>Negative</td>\n",
       "      <td>CSGO matchmaking is so full of closet hacking,...</td>\n",
       "      <td>csgo matchmaking is so full of closet hacking ...</td>\n",
       "    </tr>\n",
       "    <tr>\n",
       "      <th>3</th>\n",
       "      <td>4433</td>\n",
       "      <td>Google</td>\n",
       "      <td>Neutral</td>\n",
       "      <td>Now the President is slapping Americans in the...</td>\n",
       "      <td>now the president is slapping americans in the...</td>\n",
       "    </tr>\n",
       "    <tr>\n",
       "      <th>4</th>\n",
       "      <td>6273</td>\n",
       "      <td>FIFA</td>\n",
       "      <td>Negative</td>\n",
       "      <td>Hi @EAHelp I’ve had Madeleine McCann in my cel...</td>\n",
       "      <td>hi eahelp ive had madeleine mccann in my cella...</td>\n",
       "    </tr>\n",
       "    <tr>\n",
       "      <th>...</th>\n",
       "      <td>...</td>\n",
       "      <td>...</td>\n",
       "      <td>...</td>\n",
       "      <td>...</td>\n",
       "      <td>...</td>\n",
       "    </tr>\n",
       "    <tr>\n",
       "      <th>994</th>\n",
       "      <td>4891</td>\n",
       "      <td>GrandTheftAuto(GTA)</td>\n",
       "      <td>Irrelevant</td>\n",
       "      <td>⭐️ Toronto is the arts and culture capital of ...</td>\n",
       "      <td>toronto is the arts and culture capital of can...</td>\n",
       "    </tr>\n",
       "    <tr>\n",
       "      <th>995</th>\n",
       "      <td>4359</td>\n",
       "      <td>CS-GO</td>\n",
       "      <td>Irrelevant</td>\n",
       "      <td>tHIS IS ACTUALLY A GOOD MOVE TOT BRING MORE VI...</td>\n",
       "      <td>this is actually a good move tot bring more vi...</td>\n",
       "    </tr>\n",
       "    <tr>\n",
       "      <th>996</th>\n",
       "      <td>2652</td>\n",
       "      <td>Borderlands</td>\n",
       "      <td>Positive</td>\n",
       "      <td>Today sucked so it’s time to drink wine n play...</td>\n",
       "      <td>today sucked so its time to drink wine n play ...</td>\n",
       "    </tr>\n",
       "    <tr>\n",
       "      <th>997</th>\n",
       "      <td>8069</td>\n",
       "      <td>Microsoft</td>\n",
       "      <td>Positive</td>\n",
       "      <td>Bought a fraction of Microsoft today. Small wins.</td>\n",
       "      <td>bought a fraction of microsoft today small wins</td>\n",
       "    </tr>\n",
       "    <tr>\n",
       "      <th>998</th>\n",
       "      <td>6960</td>\n",
       "      <td>johnson&amp;johnson</td>\n",
       "      <td>Neutral</td>\n",
       "      <td>Johnson &amp; Johnson to stop selling talc baby po...</td>\n",
       "      <td>johnson johnson to stop selling talc baby powd...</td>\n",
       "    </tr>\n",
       "  </tbody>\n",
       "</table>\n",
       "<p>999 rows × 5 columns</p>\n",
       "</div>"
      ],
      "text/plain": [
       "       id               entity   sentiment  \\\n",
       "0     352               Amazon     Neutral   \n",
       "1    8312            Microsoft    Negative   \n",
       "2    4371                CS-GO    Negative   \n",
       "3    4433               Google     Neutral   \n",
       "4    6273                 FIFA    Negative   \n",
       "..    ...                  ...         ...   \n",
       "994  4891  GrandTheftAuto(GTA)  Irrelevant   \n",
       "995  4359                CS-GO  Irrelevant   \n",
       "996  2652          Borderlands    Positive   \n",
       "997  8069            Microsoft    Positive   \n",
       "998  6960      johnson&johnson     Neutral   \n",
       "\n",
       "                                               reviews  \\\n",
       "0    BBC News - Amazon boss Jeff Bezos rejects clai...   \n",
       "1    @Microsoft Why do I pay for WORD when it funct...   \n",
       "2    CSGO matchmaking is so full of closet hacking,...   \n",
       "3    Now the President is slapping Americans in the...   \n",
       "4    Hi @EAHelp I’ve had Madeleine McCann in my cel...   \n",
       "..                                                 ...   \n",
       "994  ⭐️ Toronto is the arts and culture capital of ...   \n",
       "995  tHIS IS ACTUALLY A GOOD MOVE TOT BRING MORE VI...   \n",
       "996  Today sucked so it’s time to drink wine n play...   \n",
       "997  Bought a fraction of Microsoft today. Small wins.   \n",
       "998  Johnson & Johnson to stop selling talc baby po...   \n",
       "\n",
       "                                       cleaned_reviews  \n",
       "0    bbc news amazon boss jeff bezos rejects claims...  \n",
       "1    microsoft why do i pay for word when it functi...  \n",
       "2    csgo matchmaking is so full of closet hacking ...  \n",
       "3    now the president is slapping americans in the...  \n",
       "4    hi eahelp ive had madeleine mccann in my cella...  \n",
       "..                                                 ...  \n",
       "994  toronto is the arts and culture capital of can...  \n",
       "995  this is actually a good move tot bring more vi...  \n",
       "996  today sucked so its time to drink wine n play ...  \n",
       "997    bought a fraction of microsoft today small wins  \n",
       "998  johnson johnson to stop selling talc baby powd...  \n",
       "\n",
       "[999 rows x 5 columns]"
      ]
     },
     "execution_count": 21,
     "metadata": {},
     "output_type": "execute_result"
    }
   ],
   "source": [
    "df_test"
   ]
  },
  {
   "cell_type": "markdown",
   "id": "84ec5f5c-cad8-47e5-9ff2-b98ff0bedbec",
   "metadata": {},
   "source": [
    "# Featuring Scaling X & Y"
   ]
  },
  {
   "cell_type": "code",
   "execution_count": 23,
   "id": "b778ef09-ad4c-4a4f-a327-397dd76d518e",
   "metadata": {},
   "outputs": [],
   "source": [
    "X_test = vectorizer.transform(df_test['cleaned_reviews']).toarray()\n",
    "y_test = le.transform(df_test['sentiment'])\n"
   ]
  },
  {
   "cell_type": "markdown",
   "id": "44ef8a39-9402-4a67-8098-144310f5972e",
   "metadata": {},
   "source": [
    "# Predicting Text Valeus"
   ]
  },
  {
   "cell_type": "code",
   "execution_count": 25,
   "id": "f4af74dc-bdb5-4fa8-ac8f-cad3da6a81f7",
   "metadata": {},
   "outputs": [
    {
     "name": "stdout",
     "output_type": "stream",
     "text": [
      "\u001b[1m32/32\u001b[0m \u001b[32m━━━━━━━━━━━━━━━━━━━━\u001b[0m\u001b[37m\u001b[0m \u001b[1m1s\u001b[0m 12ms/step\n",
      "Test Accuracy: 0.6496496496496497\n",
      "\n",
      "Classification Report:\n",
      "               precision    recall  f1-score   support\n",
      "\n",
      "  Irrelevant       0.49      0.72      0.58       171\n",
      "    Negative       0.71      0.67      0.69       266\n",
      "     Neutral       0.76      0.59      0.66       285\n",
      "    Positive       0.65      0.66      0.65       277\n",
      "\n",
      "    accuracy                           0.65       999\n",
      "   macro avg       0.65      0.66      0.65       999\n",
      "weighted avg       0.67      0.65      0.65       999\n",
      "\n"
     ]
    }
   ],
   "source": [
    "y_pred_test = model.predict(X_test)\n",
    "y_pred_classes = np.argmax(y_pred_test, axis=1)\n",
    "from sklearn.metrics import accuracy_score, classification_report, confusion_matrix\n",
    "\n",
    "print(\"Test Accuracy:\", accuracy_score(y_test, y_pred_classes))\n",
    "print(\"\\nClassification Report:\\n\", classification_report(y_test, y_pred_classes, target_names=le.classes_))\n"
   ]
  },
  {
   "cell_type": "code",
   "execution_count": null,
   "id": "0ac7a441-926b-4731-bcea-dafd3727498f",
   "metadata": {},
   "outputs": [],
   "source": []
  }
 ],
 "metadata": {
  "kernelspec": {
   "display_name": "Python 3 (ipykernel)",
   "language": "python",
   "name": "python3"
  },
  "language_info": {
   "codemirror_mode": {
    "name": "ipython",
    "version": 3
   },
   "file_extension": ".py",
   "mimetype": "text/x-python",
   "name": "python",
   "nbconvert_exporter": "python",
   "pygments_lexer": "ipython3",
   "version": "3.12.3"
  }
 },
 "nbformat": 4,
 "nbformat_minor": 5
}
